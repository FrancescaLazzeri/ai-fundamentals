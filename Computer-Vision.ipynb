{
 "nbformat": 4,
 "nbformat_minor": 2,
 "metadata": {
  "language_info": {
   "name": "python",
   "codemirror_mode": {
    "name": "ipython",
    "version": 3
   },
   "version": "3.7.4"
  },
  "orig_nbformat": 2,
  "file_extension": ".py",
  "mimetype": "text/x-python",
  "name": "python",
  "npconvert_exporter": "python",
  "pygments_lexer": "ipython3",
  "version": 3
 },
 "cells": [
  {
   "cell_type": "code",
   "metadata": {},
   "outputs": [],
   "source": [
    "PREDICTION_KEY = '8af00d289c7c43fca8a34b97dccf5d41'\n",
    "ENDPOINT = 'https://gmalccv-prediction.cognitiveservices.azure.com/'\n",
    "PREDICTION_RESOURCE_ID = \"/subscriptions/89429ec6-7544-4e27-b768-1172cdc01efa/resourceGroups/gmalc-cog/providers/Microsoft.CognitiveServices/accounts/gmalccv-Prediction\"\n",
    "PROJECT_ID = '535bcc9a-0aa2-4aa7-8a35-6e44870540aa'\n",
    "MODEL_NAME = 'plane-train-automobile'\n",
    "print('Ready to predict!')"
   ]
  },
  {
   "cell_type": "code",
   "metadata": {},
   "outputs": [],
   "source": [
    "from azure.cognitiveservices.vision.customvision.prediction import CustomVisionPredictionClient\n",
    "import matplotlib.pyplot as plt\n",
    "from PIL import Image\n",
    "import os\n",
    "%matplotlib inline\n",
    "\n",
    "# Get the test images from the data/voc/test folder\n",
    "test_folder = os.path.join('data', 'voc', 'test')\n",
    "test_images = os.listdir(test_folder)\n",
    "print(test_images)\n",
    "\n",
    "# Create an instance of the prediction service\n",
    "predictor = CustomVisionPredictionClient(PREDICTION_KEY, endpoint=ENDPOINT)\n",
    "\n",
    "# Create a figure to display the results\n",
    "fig = plt.figure(figsize=(16, 8))\n",
    "\n",
    "# Get the images and show the predicted classes\n",
    "for idx in range(len(test_images)):\n",
    "    with open(os.path.join(test_folder, test_images[idx]), \"rb\") as image_contents:\n",
    "        results = predictor.classify_image(PROJECT_ID, MODEL_NAME, image_contents.read())\n",
    "    # The results include a prediction for each tag, in descending order of probability - get the first one\n",
    "    prediction = results.predictions[0].tag_name + \": {0:.2f}%\".format(results.predictions[0].probability * 100)\n",
    "    img = Image.open(os.path.join(test_folder, test_images[idx]))\n",
    "    # Plot the image and its predicted class\n",
    "    a=fig.add_subplot(1,len(test_images),idx+1)\n",
    "    imgplot = plt.imshow(img)\n",
    "    a.set_title(prediction)\n",
    "\n",
    "plt.show()"
   ]
  },
  {
   "cell_type": "code",
   "metadata": {},
   "outputs": [],
   "source": []
  }
 ]
}